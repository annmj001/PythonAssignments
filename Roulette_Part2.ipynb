{
 "cells": [
  {
   "cell_type": "code",
   "execution_count": 3,
   "id": "9c5dfb1c-7970-4354-a15b-60219fd45dd7",
   "metadata": {},
   "outputs": [],
   "source": [
    "import random\n",
    "import time\n",
    "\n",
    "\n",
    "def go_to_casino(money = 1000):\n",
    "    keep_going = True\n",
    "    start_time = time.time()\n",
    "    while keep_going:\n",
    "        # play the roulette with the given rules\n",
    "        amount = int(input(\"How much do you want to bet?\"))\n",
    "        while amount > money:\n",
    "            print(\"You don't have sufficient money!\")\n",
    "            amount = int(input(\"How much do you want to bet?\"))\n",
    "\n",
    "        winning_number = random.randint(1, 35)\n",
    "    \n",
    "        bet_choice = int(input(\"Do you want to bet on number or color? Type 1 for number, 2 for color\"))\n",
    "        if bet_choice == 1:\n",
    "            bet_value = int(input(\"Please enter number between 1 to 35.\"))\n",
    "            while bet_value < 1 or bet_value > 35:\n",
    "                print(\"Not a valid input\")\n",
    "                bet_value = int(input(\"Please enter number between 1 to 35.\"))        \n",
    "\n",
    "            print(f\"Winning number: {winning_number}\")\n",
    "            if winning_number == bet_value:\n",
    "                print(\"You won!\")\n",
    "                money += 35 * amount\n",
    "            else:\n",
    "                print(\"You lost!\")\n",
    "                money -= amount    \n",
    "        else:\n",
    "            bet_color = int(input(\"Red or Black? 1 for Red, 2 for Black\"))\n",
    "            if bet_color == 1:\n",
    "                print(\"You choose Red\")\n",
    "            else:\n",
    "                bet_color = 0\n",
    "                print(\"You choose Black\")\n",
    "\n",
    "            winning_color = winning_number % 2\n",
    "            winning_color_str = \"Red\" if winning_color == 1 else \"Black\"\n",
    "            print(f\"Winning number: {winning_number}, Winning color: {winning_color_str}\")\n",
    "            if winning_color == bet_color:\n",
    "                print(\"You won!\")\n",
    "                money += 2 * amount\n",
    "            else:\n",
    "                print(\"You lost!\")\n",
    "                money -= amount\n",
    "        \n",
    "        end_time = time.time()\n",
    "        time_elapsed = end_time - start_time\n",
    "\n",
    "        if time_elapsed > 120:  # exceeded 2 mins\n",
    "            print(\"You are fired for being late! You have nothing left\")\n",
    "            money = 0\n",
    "            keep_going = False\n",
    "        else:\n",
    "            print(f\"You now have ${money}\")\n",
    "            print(f\"Time left: {120 - time_elapsed} seconds\")\n",
    "            answer = input(\"Do you want to stop playing (y/n) ?\")\n",
    "            if answer in [\"y\", \"Y\"]:\n",
    "                keep_going = False\n",
    "                print(\"\")\n",
    "    return money"
   ]
  },
  {
   "cell_type": "code",
   "execution_count": null,
   "id": "47ef7d9f-76ed-4c30-8acc-fb4f6fea0553",
   "metadata": {},
   "outputs": [],
   "source": [
    "final_money = go_to_casino()"
   ]
  }
 ],
 "metadata": {
  "kernelspec": {
   "display_name": "Python 3 (ipykernel)",
   "language": "python",
   "name": "python3"
  },
  "language_info": {
   "codemirror_mode": {
    "name": "ipython",
    "version": 3
   },
   "file_extension": ".py",
   "mimetype": "text/x-python",
   "name": "python",
   "nbconvert_exporter": "python",
   "pygments_lexer": "ipython3",
   "version": "3.10.8"
  }
 },
 "nbformat": 4,
 "nbformat_minor": 5
}
